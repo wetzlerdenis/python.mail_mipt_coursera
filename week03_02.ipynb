{
 "cells": [
  {
   "cell_type": "code",
   "execution_count": 66,
   "metadata": {},
   "outputs": [],
   "source": [
    "#week 3 task 2\n",
    "# task description:\n",
    "#Вам необходимо создать свою иерархию классов для данных, которые описаны в таблице.\n",
    "#Классы должны называться CarBase (базовый класс для всех типов машин), \n",
    "# Car (легковые автомобили), Truck (грузовые автомобили) и SpecMachine (спецтехника). \n",
    "# Все объекты имеют обязательные атрибуты:\n",
    "\n",
    "#- car_type, значение типа объекта и может принимать одно из значений: «car», «truck», «spec_machine».\n",
    "#- photo_file_name, имя файла с изображением машины, допустимы названия файлов изображений с расширением из списка: «.jpg», «.jpeg», «.png», «.gif»\n",
    "#- brand, марка производителя машины\n",
    "#- carrying, грузоподъемность\n",
    "\n",
    "#В базовом классе CarBase нужно реализовать метод get_photo_file_ext \n",
    "# для получения расширения файла изображения. \n",
    "#Расширение файла можно получить при помощи os.path.splitext.\n",
    "#Для грузового автомобиля необходимо в конструкторе класса определить атрибуты: \n",
    "# body_length, body_width, body_height, отвечающие соответственно за габариты кузова — \n",
    "# длину, ширину и высоту. Габариты передаются в параметре body_whl \n",
    "# (строка, в которой размеры разделены латинской буквой «x»). \n",
    "# Обратите внимание на то, что характеристики кузова должны быть вещественными \n",
    "# числами и характеристики кузова могут быть не валидными (например, пустая строка).\n",
    "# В таком случае всем атрибутам, отвечающим за габариты кузова, \n",
    "# присваивается значение равное нулю.\n",
    "#Также для класса грузового автомобиля необходимо реализовать метод \n",
    "# get_body_volume, возвращающий объем кузова.\n",
    "#В классе Car должен быть определен атрибут passenger_seats_count \n",
    "# (количество пассажирских мест), а в классе SpecMachine — extra \n",
    "# (дополнительное описание машины).\n",
    "#Полная информация о атрибутах классов приведена в таблице ниже, \n",
    "# где 1 - означает, что атрибут обязателен для объекта, \n",
    "# 0 - атрибут должен отсутствовать.\n",
    "\n",
    "import csv\n",
    "import os\n",
    "class CarBase:\n",
    "    def __init__(self, brand, photo_file_name, carrying):\n",
    "        self.brand = brand\n",
    "        self.photo_file_name = photo_file_name\n",
    "        self.carrying = float(carrying)\n",
    "\n",
    "    def get_photo_file_ext(self):\n",
    "        return os.path.splitext(self.photo_file_name)[1]\n",
    "\n",
    "\n",
    "class Car(CarBase):\n",
    "    def __init__(self, brand, photo_file_name, carrying, passenger_seats_count):\n",
    "        super().__init__(brand, photo_file_name,carrying)\n",
    "        self.car_type = 'car'\n",
    "        self.passenger_seats_count = int(passenger_seats_count)\n",
    "\n",
    "\n",
    "class Truck(CarBase):\n",
    "    def __init__(self, brand, photo_file_name, carrying, body_whl):\n",
    "        super().__init__(brand, photo_file_name,carrying)\n",
    "        self.car_type = 'truck'\n",
    "        \n",
    "#        if body_whl:\n",
    "#            whl = body_whl.split(sep='x')\n",
    "#            if whl[0]:\n",
    "#                self.body_length = float(whl[0])\n",
    "#            else:\n",
    "#                self.body_length = 0.0\n",
    "#            if whl[1] != \"\":\n",
    "#                self.body_width = float(whl[1])\n",
    "#            else:\n",
    "#                self.body_width = 0.0\n",
    "#            self.body_height = float(whl[2])\n",
    "#        else: \n",
    "#            self.body_length,self.body_width,self.body_height = 0.0,0.0,0.0\n",
    "        try:\n",
    "            whl = body_whl.split(sep='x')\n",
    "            if len(whl) != 3:\n",
    "                    raise ValueError\n",
    "            self.body_length = float(whl[0])\n",
    "            self.body_width = float(whl[1])\n",
    "            self.body_height = float(whl[2])\n",
    "        except ValueError:\n",
    "            self.body_length,self.body_width,self.body_height = 0.0,0.0,0.0\n",
    "\n",
    "\n",
    "    def get_body_volume(self):\n",
    "        return self.body_length*self.body_width*self.body_height\n",
    "\n",
    "class SpecMachine(CarBase):\n",
    "    \n",
    "    def __init__(self, brand, photo_file_name, carrying, extra):\n",
    "        super().__init__(brand, photo_file_name,carrying)\n",
    "        self.car_type = 'spec_machine'\n",
    "        self.extra = extra\n",
    "\n",
    "        \n",
    "def get_car_list(csv_filename):\n",
    "    car_list = []\n",
    "    \n",
    "    with open(csv_filename) as csv_fd:\n",
    "        reader = csv.reader(csv_fd, delimiter=';')\n",
    "        next(reader)  # пропускаем заголовок\n",
    "        for row in reader:\n",
    "            print(row)\n",
    "            try:\n",
    "                cartype = row[0]\n",
    "            except IndexError: \n",
    "                continue\n",
    "                \n",
    "            if cartype == 'car':\n",
    "                try:\n",
    "                    car_list.append(Car(row[1],row[3],row[5],row[2]))\n",
    "                except IndexError: \n",
    "                    continue\n",
    "                    \n",
    "            if cartype == 'truck':\n",
    "                try:\n",
    "                    car_list.append(Truck(row[1],row[3],row[5],row[4]))\n",
    "                except IndexError: \n",
    "                    continue\n",
    "                    \n",
    "            if cartype == 'spec_machine':\n",
    "                try:\n",
    "                    car_list.append(SpecMachine(row[1],row[3],row[5],row[6]))\n",
    "                except IndexError:\n",
    "                    continue\n",
    "            \n",
    "    return car_list"
   ]
  },
  {
   "cell_type": "code",
   "execution_count": 47,
   "metadata": {},
   "outputs": [],
   "source": [
    "file ='coursera_week3_cars.csv'"
   ]
  },
  {
   "cell_type": "code",
   "execution_count": 48,
   "metadata": {
    "tags": []
   },
   "outputs": [
    {
     "output_type": "stream",
     "name": "stdout",
     "text": "['car', 'Nissan xTtrail', '4', 'f1.jpeg', '', '2.5', '']\n['truck', 'Man', '', 'f2.png', '8x3x2.5', '20', '']\n['truck', 'Man', '', 'f2.png', '', '20', '']\n['car', 'Mazda 6', '4', 'f3.jpeg', '', '2.5', '']\n['', '', '', '']\n['spec_machine', 'Hitachi', '', 'f4', '', '1.2', '?????? ??????? ??? ?????? ?????']\n"
    }
   ],
   "source": [
    "car_list = get_car_list(file)"
   ]
  },
  {
   "cell_type": "code",
   "execution_count": 7,
   "metadata": {},
   "outputs": [
    {
     "output_type": "execute_result",
     "data": {
      "text/plain": "5"
     },
     "metadata": {},
     "execution_count": 7
    }
   ],
   "source": [
    "len(car_list)"
   ]
  },
  {
   "cell_type": "code",
   "execution_count": 10,
   "metadata": {},
   "outputs": [
    {
     "output_type": "execute_result",
     "data": {
      "text/plain": "'truck'"
     },
     "metadata": {},
     "execution_count": 10
    }
   ],
   "source": [
    "car_list[1].car_type"
   ]
  },
  {
   "cell_type": "code",
   "execution_count": 59,
   "metadata": {
    "tags": []
   },
   "outputs": [],
   "source": [
    "test1 = Truck('Nissan','d2.jpg','4', 'Hx3x4x2')"
   ]
  },
  {
   "cell_type": "code",
   "execution_count": 60,
   "metadata": {},
   "outputs": [
    {
     "output_type": "execute_result",
     "data": {
      "text/plain": "0.0"
     },
     "metadata": {},
     "execution_count": 60
    }
   ],
   "source": [
    "test1.body_width\n"
   ]
  },
  {
   "cell_type": "code",
   "execution_count": 45,
   "metadata": {},
   "outputs": [
    {
     "output_type": "execute_result",
     "data": {
      "text/plain": "0.0"
     },
     "metadata": {},
     "execution_count": 45
    }
   ],
   "source": [
    "test1.get_body_volume()"
   ]
  },
  {
   "cell_type": "code",
   "execution_count": 67,
   "metadata": {},
   "outputs": [],
   "source": [
    "test2 = Truck('Nissan','d2.jpg','4', '2x3x4x2')"
   ]
  },
  {
   "cell_type": "code",
   "execution_count": 68,
   "metadata": {},
   "outputs": [
    {
     "output_type": "execute_result",
     "data": {
      "text/plain": "0.0"
     },
     "metadata": {},
     "execution_count": 68
    }
   ],
   "source": [
    "test2.get_body_volume()"
   ]
  },
  {
   "cell_type": "code",
   "execution_count": null,
   "metadata": {},
   "outputs": [],
   "source": []
  }
 ],
 "metadata": {
  "kernelspec": {
   "display_name": "Python 3",
   "language": "python",
   "name": "python3"
  },
  "language_info": {
   "codemirror_mode": {
    "name": "ipython",
    "version": 3
   },
   "file_extension": ".py",
   "mimetype": "text/x-python",
   "name": "python",
   "nbconvert_exporter": "python",
   "pygments_lexer": "ipython3",
   "version": "3.7.4-final"
  },
  "toc": {
   "base_numbering": 1,
   "nav_menu": {},
   "number_sections": true,
   "sideBar": true,
   "skip_h1_title": false,
   "title_cell": "Table of Contents",
   "title_sidebar": "Contents",
   "toc_cell": false,
   "toc_position": {},
   "toc_section_display": true,
   "toc_window_display": false
  }
 },
 "nbformat": 4,
 "nbformat_minor": 2
}